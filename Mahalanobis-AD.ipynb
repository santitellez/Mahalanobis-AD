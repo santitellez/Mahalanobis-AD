{
 "cells": [
  {
   "cell_type": "code",
   "execution_count": 114,
   "metadata": {},
   "outputs": [],
   "source": [
    "import numpy as np\n",
    "import pandas as pd\n",
    "\n",
    "import matplotlib.pyplot as plt\n",
    "\n",
    "from sklearn.decomposition import PCA"
   ]
  },
  {
   "cell_type": "code",
   "execution_count": 115,
   "metadata": {},
   "outputs": [],
   "source": [
    "# Load data\n",
    "\n",
    "train = pd.read_table(\"data/datatraining.txt\", sep = ',')\n",
    "train.index = pd.to_datetime(train.date)\n",
    "train = train.drop('date', axis = 1)\n",
    "\n",
    "test = pd.read_table(\"data/datatest.txt\", sep = \",\")\n",
    "test.index = pd.to_datetime(test.date)\n",
    "test = test.drop('date', axis = 1)"
   ]
  },
  {
   "cell_type": "code",
   "execution_count": 116,
   "metadata": {},
   "outputs": [],
   "source": [
    "# Remove known anomalies from training data\n",
    "\n",
    "train = train[train.Occupancy == 0].drop('Occupancy', axis = 1)\n",
    "test = test.drop('Occupancy', axis = 1)"
   ]
  },
  {
   "cell_type": "code",
   "execution_count": 117,
   "metadata": {},
   "outputs": [],
   "source": [
    "# Normalize data\n",
    "\n",
    "norm_train = (train - train.mean()) / train.std()\n",
    "norm_test = (test - train.mean()) / train.std()"
   ]
  },
  {
   "cell_type": "code",
   "execution_count": 118,
   "metadata": {},
   "outputs": [],
   "source": [
    "# PCA\n",
    "\n",
    "pca = PCA(n_components = 2, svd_solver = 'full')\n",
    "\n",
    "pca_train = pd.DataFrame(pca.fit_transform(norm_train))\n",
    "pca_train.index = norm_train.index\n",
    "\n",
    "pca_test = pd.DataFrame(pca.transform(norm_test))\n",
    "pca_test.index = norm_test.index"
   ]
  },
  {
   "cell_type": "code",
   "execution_count": 126,
   "metadata": {},
   "outputs": [],
   "source": [
    "# Functions to calculate Mahalanobis Distance\n",
    "\n",
    "def inv_cov_matrix(x):\n",
    "    if np.all(np.linalg.eigvals(np.cov(x)) > 0):\n",
    "        return(np.linalg.inv(np.cov(x)))\n",
    "\n",
    "def calculate_M_distance(inv_cov_matrix, means, data, verbose=False):\n",
    "    diff = data - means\n",
    "    md = []\n",
    "    for i in range(len(diff)):\n",
    "        md.append(np.sqrt(diff[i].dot(inv_cov_matrix).dot(diff[i])))\n",
    "    return md\n",
    "\n",
    "def detect_outliers(dist, extreme=False, verbose=False):\n",
    "    k = 3. if extreme else 2.\n",
    "    threshold = np.mean(dist) * k\n",
    "    outliers = []\n",
    "    for i in range(len(dist)):\n",
    "        if dist[i] >= threshold:\n",
    "            outliers.append(i)\n",
    "    return np.array(outliers)\n",
    "\n",
    "def calculate_threshold(dist, extreme=False, verbose=False):\n",
    "    k = 3. if extreme else 2.\n",
    "    threshold = np.mean(dist) * k\n",
    "    return threshold"
   ]
  },
  {
   "cell_type": "code",
   "execution_count": 127,
   "metadata": {},
   "outputs": [],
   "source": [
    "# Find Mahalanobis Distance\n",
    "\n",
    "inv_cov_train = inv_cov_matrix(np.array(pca_train.values))"
   ]
  },
  {
   "cell_type": "code",
   "execution_count": 125,
   "metadata": {},
   "outputs": [
    {
     "data": {
      "text/plain": [
       "(6414, 2)"
      ]
     },
     "execution_count": 125,
     "metadata": {},
     "output_type": "execute_result"
    }
   ],
   "source": [
    "np.array(pca_train.values).shape"
   ]
  },
  {
   "cell_type": "code",
   "execution_count": null,
   "metadata": {},
   "outputs": [],
   "source": []
  }
 ],
 "metadata": {
  "file_extension": ".py",
  "kernelspec": {
   "display_name": "Python 3.7.7 64-bit",
   "language": "python",
   "name": "python37764bite0cb279f4d144302b77f15f8e8978ecf"
  },
  "language_info": {
   "codemirror_mode": {
    "name": "ipython",
    "version": 3
   },
   "file_extension": ".py",
   "mimetype": "text/x-python",
   "name": "python",
   "nbconvert_exporter": "python",
   "pygments_lexer": "ipython3",
   "version": "3.7.7"
  },
  "mimetype": "text/x-python",
  "name": "python",
  "npconvert_exporter": "python",
  "pygments_lexer": "ipython3",
  "version": 3
 },
 "nbformat": 4,
 "nbformat_minor": 2
}
